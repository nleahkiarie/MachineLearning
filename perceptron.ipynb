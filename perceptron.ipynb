{
 "cells": [
  {
   "cell_type": "code",
   "execution_count": 1,
   "id": "80bad9ee",
   "metadata": {},
   "outputs": [],
   "source": [
    "import numpy as np"
   ]
  },
  {
   "cell_type": "code",
   "execution_count": 5,
   "id": "7e93ff7d",
   "metadata": {},
   "outputs": [],
   "source": [
    "class Perceptron(object):\n",
    "    #Implements a perceptron network\n",
    "    def __init__(self, input_size, lr=1, epochs=100):\n",
    "        self.W = np.zeros(input_size+1)\n",
    "        # add one for bias\n",
    "        self.epochs = epochs\n",
    "        self.lr = lr"
   ]
  },
  {
   "cell_type": "code",
   "execution_count": 6,
   "id": "77192beb",
   "metadata": {},
   "outputs": [],
   "source": [
    "def activation_fn(self, x):\n",
    "    return 1 if x >= 0 else 0"
   ]
  },
  {
   "cell_type": "code",
   "execution_count": 8,
   "id": "36f77059",
   "metadata": {},
   "outputs": [],
   "source": [
    "def predict(self, x):\n",
    "        z = self.W.T.dot(x)\n",
    "        a = self.activation_fn(z)\n",
    "        return a"
   ]
  },
  {
   "cell_type": "code",
   "execution_count": 9,
   "id": "258f0a24",
   "metadata": {},
   "outputs": [],
   "source": [
    "def fit(self, X, d):\n",
    "    for _ in range(self.epochs):\n",
    "        for i in range(d.shape[0]):\n",
    "            x = np.insert(X[i], 0, 1)\n",
    "            y = self.predict(x)\n",
    "            e = d[i] - y\n",
    "            self.W = self.W + self.lr * e * x"
   ]
  },
  {
   "cell_type": "code",
   "execution_count": null,
   "id": "547d79a6",
   "metadata": {},
   "outputs": [],
   "source": []
  }
 ],
 "metadata": {
  "kernelspec": {
   "display_name": "Python 3 (ipykernel)",
   "language": "python",
   "name": "python3"
  },
  "language_info": {
   "codemirror_mode": {
    "name": "ipython",
    "version": 3
   },
   "file_extension": ".py",
   "mimetype": "text/x-python",
   "name": "python",
   "nbconvert_exporter": "python",
   "pygments_lexer": "ipython3",
   "version": "3.9.12"
  }
 },
 "nbformat": 4,
 "nbformat_minor": 5
}
