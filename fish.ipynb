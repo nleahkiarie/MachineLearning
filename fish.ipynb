{
 "cells": [
  {
   "cell_type": "code",
   "execution_count": 12,
   "id": "227495c2",
   "metadata": {},
   "outputs": [],
   "source": [
    "#Import libraries\n",
    "import numpy as np\n",
    "import pandas as pd"
   ]
  },
  {
   "cell_type": "code",
   "execution_count": 13,
   "id": "e72815fd",
   "metadata": {},
   "outputs": [],
   "source": [
    "#Import data set\n",
    "data_df=pd.read_csv('/home/leah/Downloads/Fish.csv')"
   ]
  },
  {
   "cell_type": "code",
   "execution_count": 14,
   "id": "d758e6eb",
   "metadata": {},
   "outputs": [
    {
     "data": {
      "text/html": [
       "<div>\n",
       "<style scoped>\n",
       "    .dataframe tbody tr th:only-of-type {\n",
       "        vertical-align: middle;\n",
       "    }\n",
       "\n",
       "    .dataframe tbody tr th {\n",
       "        vertical-align: top;\n",
       "    }\n",
       "\n",
       "    .dataframe thead th {\n",
       "        text-align: right;\n",
       "    }\n",
       "</style>\n",
       "<table border=\"1\" class=\"dataframe\">\n",
       "  <thead>\n",
       "    <tr style=\"text-align: right;\">\n",
       "      <th></th>\n",
       "      <th>Species</th>\n",
       "      <th>Weight</th>\n",
       "      <th>Length1</th>\n",
       "      <th>Length2</th>\n",
       "      <th>Length3</th>\n",
       "      <th>Height</th>\n",
       "      <th>Width</th>\n",
       "    </tr>\n",
       "  </thead>\n",
       "  <tbody>\n",
       "    <tr>\n",
       "      <th>0</th>\n",
       "      <td>Bream</td>\n",
       "      <td>242.0</td>\n",
       "      <td>23.2</td>\n",
       "      <td>25.4</td>\n",
       "      <td>30.0</td>\n",
       "      <td>11.5200</td>\n",
       "      <td>4.0200</td>\n",
       "    </tr>\n",
       "    <tr>\n",
       "      <th>1</th>\n",
       "      <td>Bream</td>\n",
       "      <td>290.0</td>\n",
       "      <td>24.0</td>\n",
       "      <td>26.3</td>\n",
       "      <td>31.2</td>\n",
       "      <td>12.4800</td>\n",
       "      <td>4.3056</td>\n",
       "    </tr>\n",
       "    <tr>\n",
       "      <th>2</th>\n",
       "      <td>Bream</td>\n",
       "      <td>340.0</td>\n",
       "      <td>23.9</td>\n",
       "      <td>26.5</td>\n",
       "      <td>31.1</td>\n",
       "      <td>12.3778</td>\n",
       "      <td>4.6961</td>\n",
       "    </tr>\n",
       "    <tr>\n",
       "      <th>3</th>\n",
       "      <td>Bream</td>\n",
       "      <td>363.0</td>\n",
       "      <td>26.3</td>\n",
       "      <td>29.0</td>\n",
       "      <td>33.5</td>\n",
       "      <td>12.7300</td>\n",
       "      <td>4.4555</td>\n",
       "    </tr>\n",
       "    <tr>\n",
       "      <th>4</th>\n",
       "      <td>Bream</td>\n",
       "      <td>430.0</td>\n",
       "      <td>26.5</td>\n",
       "      <td>29.0</td>\n",
       "      <td>34.0</td>\n",
       "      <td>12.4440</td>\n",
       "      <td>5.1340</td>\n",
       "    </tr>\n",
       "  </tbody>\n",
       "</table>\n",
       "</div>"
      ],
      "text/plain": [
       "  Species  Weight  Length1  Length2  Length3   Height   Width\n",
       "0   Bream   242.0     23.2     25.4     30.0  11.5200  4.0200\n",
       "1   Bream   290.0     24.0     26.3     31.2  12.4800  4.3056\n",
       "2   Bream   340.0     23.9     26.5     31.1  12.3778  4.6961\n",
       "3   Bream   363.0     26.3     29.0     33.5  12.7300  4.4555\n",
       "4   Bream   430.0     26.5     29.0     34.0  12.4440  5.1340"
      ]
     },
     "execution_count": 14,
     "metadata": {},
     "output_type": "execute_result"
    }
   ],
   "source": [
    "data_df.head()"
   ]
  },
  {
   "cell_type": "code",
   "execution_count": 15,
   "id": "f4ffb7dd",
   "metadata": {},
   "outputs": [],
   "source": [
    "#define x and y axis\n",
    "x=data_df.drop(['Weight','Species'],axis=1).values\n",
    "y=data_df['Weight'].values"
   ]
  },
  {
   "cell_type": "code",
   "execution_count": 16,
   "id": "51da250d",
   "metadata": {},
   "outputs": [
    {
     "name": "stdout",
     "output_type": "stream",
     "text": [
      "[[23.2    25.4    30.     11.52    4.02  ]\n",
      " [24.     26.3    31.2    12.48    4.3056]\n",
      " [23.9    26.5    31.1    12.3778  4.6961]\n",
      " [26.3    29.     33.5    12.73    4.4555]\n",
      " [26.5    29.     34.     12.444   5.134 ]\n",
      " [26.8    29.7    34.7    13.6024  4.9274]\n",
      " [26.8    29.7    34.5    14.1795  5.2785]\n",
      " [27.6    30.     35.     12.67    4.69  ]\n",
      " [27.6    30.     35.1    14.0049  4.8438]\n",
      " [28.5    30.7    36.2    14.2266  4.9594]\n",
      " [28.4    31.     36.2    14.2628  5.1042]\n",
      " [28.7    31.     36.2    14.3714  4.8146]\n",
      " [29.1    31.5    36.4    13.7592  4.368 ]\n",
      " [29.5    32.     37.3    13.9129  5.0728]\n",
      " [29.4    32.     37.2    14.9544  5.1708]\n",
      " [29.4    32.     37.2    15.438   5.58  ]\n",
      " [30.4    33.     38.3    14.8604  5.2854]\n",
      " [30.4    33.     38.5    14.938   5.1975]\n",
      " [30.9    33.5    38.6    15.633   5.1338]\n",
      " [31.     33.5    38.7    14.4738  5.7276]\n",
      " [31.3    34.     39.5    15.1285  5.5695]\n",
      " [31.4    34.     39.2    15.9936  5.3704]\n",
      " [31.5    34.5    39.7    15.5227  5.2801]\n",
      " [31.8    35.     40.6    15.4686  6.1306]\n",
      " [31.9    35.     40.5    16.2405  5.589 ]\n",
      " [31.8    35.     40.9    16.36    6.0532]\n",
      " [32.     35.     40.6    16.3618  6.09  ]\n",
      " [32.7    36.     41.5    16.517   5.8515]\n",
      " [32.8    36.     41.6    16.8896  6.1984]\n",
      " [33.5    37.     42.6    18.957   6.603 ]\n",
      " [35.     38.5    44.1    18.0369  6.3063]\n",
      " [35.     38.5    44.     18.084   6.292 ]\n",
      " [36.2    39.5    45.3    18.7542  6.7497]\n",
      " [37.4    41.     45.9    18.6354  6.7473]\n",
      " [38.     41.     46.5    17.6235  6.3705]\n",
      " [12.9    14.1    16.2     4.1472  2.268 ]\n",
      " [16.5    18.2    20.3     5.2983  2.8217]\n",
      " [17.5    18.8    21.2     5.5756  2.9044]\n",
      " [18.2    19.8    22.2     5.6166  3.1746]\n",
      " [18.6    20.     22.2     6.216   3.5742]\n",
      " [19.     20.5    22.8     6.4752  3.3516]\n",
      " [19.1    20.8    23.1     6.1677  3.3957]\n",
      " [19.4    21.     23.7     6.1146  3.2943]\n",
      " [20.4    22.     24.7     5.8045  3.7544]\n",
      " [20.5    22.     24.3     6.6339  3.5478]\n",
      " [20.5    22.5    25.3     7.0334  3.8203]\n",
      " [21.     22.5    25.      6.55    3.325 ]\n",
      " [21.1    22.5    25.      6.4     3.8   ]\n",
      " [22.     24.     27.2     7.5344  3.8352]\n",
      " [22.     23.4    26.7     6.9153  3.6312]\n",
      " [22.1    23.5    26.8     7.3968  4.1272]\n",
      " [23.6    25.2    27.9     7.0866  3.906 ]\n",
      " [24.     26.     29.2     8.8768  4.4968]\n",
      " [25.     27.     30.6     8.568   4.7736]\n",
      " [29.5    31.7    35.      9.485   5.355 ]\n",
      " [23.6    26.     28.7     8.3804  4.2476]\n",
      " [24.1    26.5    29.3     8.1454  4.2485]\n",
      " [25.6    28.     30.8     8.778   4.6816]\n",
      " [28.5    31.     34.     10.744   6.562 ]\n",
      " [33.7    36.4    39.6    11.7612  6.5736]\n",
      " [37.3    40.     43.5    12.354   6.525 ]\n",
      " [13.5    14.7    16.5     6.8475  2.3265]\n",
      " [14.3    15.5    17.4     6.5772  2.3142]\n",
      " [16.3    17.7    19.8     7.4052  2.673 ]\n",
      " [17.5    19.     21.3     8.3922  2.9181]\n",
      " [18.4    20.     22.4     8.8928  3.2928]\n",
      " [19.     20.7    23.2     8.5376  3.2944]\n",
      " [19.     20.7    23.2     9.396   3.4104]\n",
      " [19.8    21.5    24.1     9.7364  3.1571]\n",
      " [21.2    23.     25.8    10.3458  3.6636]\n",
      " [23.     25.     28.     11.088   4.144 ]\n",
      " [24.     26.     29.     11.368   4.234 ]\n",
      " [ 7.5     8.4     8.8     2.112   1.408 ]\n",
      " [12.5    13.7    14.7     3.528   1.9992]\n",
      " [13.8    15.     16.      3.824   2.432 ]\n",
      " [15.     16.2    17.2     4.5924  2.6316]\n",
      " [15.7    17.4    18.5     4.588   2.9415]\n",
      " [16.2    18.     19.2     5.2224  3.3216]\n",
      " [16.8    18.7    19.4     5.1992  3.1234]\n",
      " [17.2    19.     20.2     5.6358  3.0502]\n",
      " [17.8    19.6    20.8     5.1376  3.0368]\n",
      " [18.2    20.     21.      5.082   2.772 ]\n",
      " [19.     21.     22.5     5.6925  3.555 ]\n",
      " [19.     21.     22.5     5.9175  3.3075]\n",
      " [19.     21.     22.5     5.6925  3.6675]\n",
      " [19.3    21.3    22.8     6.384   3.534 ]\n",
      " [20.     22.     23.5     6.11    3.4075]\n",
      " [20.     22.     23.5     5.64    3.525 ]\n",
      " [20.     22.     23.5     6.11    3.525 ]\n",
      " [20.     22.     23.5     5.875   3.525 ]\n",
      " [20.     22.     23.5     5.5225  3.995 ]\n",
      " [20.5    22.5    24.      5.856   3.624 ]\n",
      " [20.5    22.5    24.      6.792   3.624 ]\n",
      " [20.7    22.7    24.2     5.9532  3.63  ]\n",
      " [21.     23.     24.5     5.2185  3.626 ]\n",
      " [21.5    23.5    25.      6.275   3.725 ]\n",
      " [22.     24.     25.5     7.293   3.723 ]\n",
      " [22.     24.     25.5     6.375   3.825 ]\n",
      " [22.6    24.6    26.2     6.7334  4.1658]\n",
      " [23.     25.     26.5     6.4395  3.6835]\n",
      " [23.5    25.6    27.      6.561   4.239 ]\n",
      " [25.     26.5    28.      7.168   4.144 ]\n",
      " [25.2    27.3    28.7     8.323   5.1373]\n",
      " [25.4    27.5    28.9     7.1672  4.335 ]\n",
      " [25.4    27.5    28.9     7.0516  4.335 ]\n",
      " [25.4    27.5    28.9     7.2828  4.5662]\n",
      " [25.9    28.     29.4     7.8204  4.2042]\n",
      " [26.9    28.7    30.1     7.5852  4.6354]\n",
      " [27.8    30.     31.6     7.6156  4.7716]\n",
      " [30.5    32.8    34.     10.03    6.018 ]\n",
      " [32.     34.5    36.5    10.2565  6.3875]\n",
      " [32.5    35.     37.3    11.4884  7.7957]\n",
      " [34.     36.5    39.     10.881   6.864 ]\n",
      " [34.     36.     38.3    10.6091  6.7408]\n",
      " [34.5    37.     39.4    10.835   6.2646]\n",
      " [34.6    37.     39.3    10.5717  6.3666]\n",
      " [36.5    39.     41.4    11.1366  7.4934]\n",
      " [36.5    39.     41.4    11.1366  6.003 ]\n",
      " [36.6    39.     41.3    12.4313  7.3514]\n",
      " [36.9    40.     42.3    11.9286  7.1064]\n",
      " [37.     40.     42.5    11.73    7.225 ]\n",
      " [37.     40.     42.4    12.3808  7.4624]\n",
      " [37.1    40.     42.5    11.135   6.63  ]\n",
      " [39.     42.     44.6    12.8002  6.8684]\n",
      " [39.8    43.     45.2    11.9328  7.2772]\n",
      " [40.1    43.     45.5    12.5125  7.4165]\n",
      " [40.2    43.5    46.     12.604   8.142 ]\n",
      " [41.1    44.     46.6    12.4888  7.5958]\n",
      " [30.     32.3    34.8     5.568   3.3756]\n",
      " [31.7    34.     37.8     5.7078  4.158 ]\n",
      " [32.7    35.     38.8     5.9364  4.3844]\n",
      " [34.8    37.3    39.8     6.2884  4.0198]\n",
      " [35.5    38.     40.5     7.29    4.5765]\n",
      " [36.     38.5    41.      6.396   3.977 ]\n",
      " [40.     42.5    45.5     7.28    4.3225]\n",
      " [40.     42.5    45.5     6.825   4.459 ]\n",
      " [40.1    43.     45.8     7.786   5.1296]\n",
      " [42.     45.     48.      6.96    4.896 ]\n",
      " [43.2    46.     48.7     7.792   4.87  ]\n",
      " [44.8    48.     51.2     7.68    5.376 ]\n",
      " [48.3    51.7    55.1     8.9262  6.1712]\n",
      " [52.     56.     59.7    10.6863  6.9849]\n",
      " [56.     60.     64.      9.6     6.144 ]\n",
      " [56.     60.     64.      9.6     6.144 ]\n",
      " [59.     63.4    68.     10.812   7.48  ]\n",
      " [ 9.3     9.8    10.8     1.7388  1.0476]\n",
      " [10.     10.5    11.6     1.972   1.16  ]\n",
      " [10.1    10.6    11.6     1.7284  1.1484]\n",
      " [10.4    11.     12.      2.196   1.38  ]\n",
      " [10.7    11.2    12.4     2.0832  1.2772]\n",
      " [10.8    11.3    12.6     1.9782  1.2852]\n",
      " [11.3    11.8    13.1     2.2139  1.2838]\n",
      " [11.3    11.8    13.1     2.2139  1.1659]\n",
      " [11.4    12.     13.2     2.2044  1.1484]\n",
      " [11.5    12.2    13.4     2.0904  1.3936]\n",
      " [11.7    12.4    13.5     2.43    1.269 ]\n",
      " [12.1    13.     13.8     2.277   1.2558]\n",
      " [13.2    14.3    15.2     2.8728  2.0672]\n",
      " [13.8    15.     16.2     2.9322  1.8792]]\n"
     ]
    }
   ],
   "source": [
    "print(x)"
   ]
  },
  {
   "cell_type": "code",
   "execution_count": 17,
   "id": "f64662d2",
   "metadata": {},
   "outputs": [
    {
     "name": "stdout",
     "output_type": "stream",
     "text": [
      "[ 242.   290.   340.   363.   430.   450.   500.   390.   450.   500.\n",
      "  475.   500.   500.   340.   600.   600.   700.   700.   610.   650.\n",
      "  575.   685.   620.   680.   700.   725.   720.   714.   850.  1000.\n",
      "  920.   955.   925.   975.   950.    40.    69.    78.    87.   120.\n",
      "    0.   110.   120.   150.   145.   160.   140.   160.   169.   161.\n",
      "  200.   180.   290.   272.   390.   270.   270.   306.   540.   800.\n",
      " 1000.    55.    60.    90.   120.   150.   140.   170.   145.   200.\n",
      "  273.   300.     5.9   32.    40.    51.5   70.   100.    78.    80.\n",
      "   85.    85.   110.   115.   125.   130.   120.   120.   130.   135.\n",
      "  110.   130.   150.   145.   150.   170.   225.   145.   188.   180.\n",
      "  197.   218.   300.   260.   265.   250.   250.   300.   320.   514.\n",
      "  556.   840.   685.   700.   700.   690.   900.   650.   820.   850.\n",
      "  900.  1015.   820.  1100.  1000.  1100.  1000.  1000.   200.   300.\n",
      "  300.   300.   430.   345.   456.   510.   540.   500.   567.   770.\n",
      "  950.  1250.  1600.  1550.  1650.     6.7    7.5    7.     9.7    9.8\n",
      "    8.7   10.     9.9    9.8   12.2   13.4   12.2   19.7   19.9]\n"
     ]
    }
   ],
   "source": [
    "print(y)"
   ]
  },
  {
   "cell_type": "code",
   "execution_count": 24,
   "id": "6f7ffd42",
   "metadata": {},
   "outputs": [],
   "source": [
    "#split data set into training data set and test set\n",
    "from sklearn.model_selection import train_test_split\n",
    "x_train,x_test,y_train,y_test=train_test_split(x,y,test_size=0.5,random_state=0)"
   ]
  },
  {
   "cell_type": "code",
   "execution_count": 25,
   "id": "4bfc86b0",
   "metadata": {},
   "outputs": [
    {
     "data": {
      "text/plain": [
       "LinearRegression()"
      ]
     },
     "execution_count": 25,
     "metadata": {},
     "output_type": "execute_result"
    }
   ],
   "source": [
    "#train the model on the training set\n",
    "from sklearn.linear_model import LinearRegression\n",
    "ml=LinearRegression()\n",
    "ml.fit(x_train,y_train)"
   ]
  },
  {
   "cell_type": "code",
   "execution_count": 26,
   "id": "278f9f97",
   "metadata": {},
   "outputs": [
    {
     "name": "stdout",
     "output_type": "stream",
     "text": [
      "[ 4.72339013e+02  1.79209750e+02  2.23675592e+02  1.81590187e+02\n",
      "  6.72564571e+02  8.07117456e+02  7.06752953e+02  4.28885872e+02\n",
      "  9.06801637e+02  1.33780386e+02  2.84758498e+02  5.76010421e+02\n",
      "  7.93799795e+02  9.25593296e+02  7.98874876e+01  1.04745351e+02\n",
      "  2.28119135e+02  9.01665924e+02  1.70911216e+02  6.98386346e+02\n",
      "  7.86755095e+01  5.11190301e+02  1.68423722e+02  1.01370248e+03\n",
      "  1.44758262e+02  5.30846432e+02  6.59442231e+02  2.83067118e+02\n",
      "  8.04909645e+02 -1.27401231e+02  6.52895093e+02  1.73613409e+02\n",
      "  9.01665924e+02  3.52573257e+02  6.18346733e+02  2.76466094e+02\n",
      "  4.66835367e+02  6.29664851e+02  7.90116525e+02  1.64607896e+02\n",
      "  6.68926958e+02  3.50625931e-01  2.43659274e+02  6.79384602e+02\n",
      " -5.49012206e+01  2.97972892e+02  3.03598758e+02  4.12402853e+02\n",
      "  6.62193481e+02  4.41768265e+02  7.88500945e+02 -6.17586190e+01\n",
      " -1.17712293e+02  3.75774559e+02  9.70031712e+01  1.73668342e+02\n",
      "  4.48565950e+02  5.45567842e+02 -1.34531035e+02  5.13348765e+02\n",
      " -1.25684589e+02 -1.49712068e+02  2.30858337e+02  1.88277204e+02\n",
      "  1.64230353e+02 -1.75807941e+02  9.15037119e+02  9.27234806e+02\n",
      "  7.65863749e+02  2.90887920e+02  2.84211729e+02  2.18290582e+02\n",
      "  2.04145949e+02  9.08399553e+02  4.00277338e+02  3.47721195e+02\n",
      "  2.43959598e+02  2.18159454e+02  5.60028874e+02  6.74046989e+02]\n"
     ]
    }
   ],
   "source": [
    "#predict set result\n",
    "y_pred=ml.predict(x_test)\n",
    "print(y_pred)"
   ]
  },
  {
   "cell_type": "code",
   "execution_count": 23,
   "id": "06ed3e5e",
   "metadata": {},
   "outputs": [
    {
     "data": {
      "text/plain": [
       "array([331.99889756])"
      ]
     },
     "execution_count": 23,
     "metadata": {},
     "output_type": "execute_result"
    }
   ],
   "source": [
    "ml.predict([[23.2,25.4,30.0,11.5200,4.0200]])"
   ]
  },
  {
   "cell_type": "code",
   "execution_count": 27,
   "id": "59cdd4e5",
   "metadata": {},
   "outputs": [
    {
     "data": {
      "text/plain": [
       "0.8185224960954807"
      ]
     },
     "execution_count": 27,
     "metadata": {},
     "output_type": "execute_result"
    }
   ],
   "source": [
    "#evaluate the model\n",
    "from sklearn.metrics import r2_score\n",
    "r2_score(y_test,y_pred)"
   ]
  },
  {
   "cell_type": "code",
   "execution_count": 28,
   "id": "2f31d3a4",
   "metadata": {},
   "outputs": [
    {
     "data": {
      "text/plain": [
       "Text(0.5, 1.0, 'Actual vs Predicted')"
      ]
     },
     "execution_count": 28,
     "metadata": {},
     "output_type": "execute_result"
    },
    {
     "data": {
      "image/png": "[encoded data removed]",
      "text/plain": [
       "<Figure size 720x360 with 1 Axes>"
      ]
     },
     "metadata": {
      "needs_background": "light"
     },
     "output_type": "display_data"
    }
   ],
   "source": [
    "#Plot the result\n",
    "import matplotlib.pyplot as plt\n",
    "plt.figure(figsize=(10,5))\n",
    "plt.scatter(y_test,y_pred)\n",
    "plt.xlabel('Actual')\n",
    "plt.ylabel('Predicted')\n",
    "plt.title('Actual vs Predicted')"
   ]
  },
  {
   "cell_type": "code",
   "execution_count": 29,
   "id": "8668318f",
   "metadata": {},
   "outputs": [
    {
     "data": {
      "text/html": [
       "<div>\n",
       "<style scoped>\n",
       "    .dataframe tbody tr th:only-of-type {\n",
       "        vertical-align: middle;\n",
       "    }\n",
       "\n",
       "    .dataframe tbody tr th {\n",
       "        vertical-align: top;\n",
       "    }\n",
       "\n",
       "    .dataframe thead th {\n",
       "        text-align: right;\n",
       "    }\n",
       "</style>\n",
       "<table border=\"1\" class=\"dataframe\">\n",
       "  <thead>\n",
       "    <tr style=\"text-align: right;\">\n",
       "      <th></th>\n",
       "      <th>actual value</th>\n",
       "      <th>difference</th>\n",
       "    </tr>\n",
       "  </thead>\n",
       "  <tbody>\n",
       "    <tr>\n",
       "      <th>0</th>\n",
       "      <td>390.0</td>\n",
       "      <td>-82.339013</td>\n",
       "    </tr>\n",
       "    <tr>\n",
       "      <th>1</th>\n",
       "      <td>0.0</td>\n",
       "      <td>-179.209750</td>\n",
       "    </tr>\n",
       "    <tr>\n",
       "      <th>2</th>\n",
       "      <td>170.0</td>\n",
       "      <td>-53.675592</td>\n",
       "    </tr>\n",
       "    <tr>\n",
       "      <th>3</th>\n",
       "      <td>160.0</td>\n",
       "      <td>-21.590187</td>\n",
       "    </tr>\n",
       "    <tr>\n",
       "      <th>4</th>\n",
       "      <td>556.0</td>\n",
       "      <td>-116.564571</td>\n",
       "    </tr>\n",
       "    <tr>\n",
       "      <th>5</th>\n",
       "      <td>900.0</td>\n",
       "      <td>92.882544</td>\n",
       "    </tr>\n",
       "    <tr>\n",
       "      <th>6</th>\n",
       "      <td>800.0</td>\n",
       "      <td>93.247047</td>\n",
       "    </tr>\n",
       "    <tr>\n",
       "      <th>7</th>\n",
       "      <td>300.0</td>\n",
       "      <td>-128.885872</td>\n",
       "    </tr>\n",
       "    <tr>\n",
       "      <th>8</th>\n",
       "      <td>975.0</td>\n",
       "      <td>68.198363</td>\n",
       "    </tr>\n",
       "    <tr>\n",
       "      <th>9</th>\n",
       "      <td>115.0</td>\n",
       "      <td>-18.780386</td>\n",
       "    </tr>\n",
       "    <tr>\n",
       "      <th>10</th>\n",
       "      <td>200.0</td>\n",
       "      <td>-84.758498</td>\n",
       "    </tr>\n",
       "    <tr>\n",
       "      <th>11</th>\n",
       "      <td>456.0</td>\n",
       "      <td>-120.010421</td>\n",
       "    </tr>\n",
       "    <tr>\n",
       "      <th>12</th>\n",
       "      <td>1000.0</td>\n",
       "      <td>206.200205</td>\n",
       "    </tr>\n",
       "    <tr>\n",
       "      <th>13</th>\n",
       "      <td>1000.0</td>\n",
       "      <td>74.406704</td>\n",
       "    </tr>\n",
       "    <tr>\n",
       "      <th>14</th>\n",
       "      <td>60.0</td>\n",
       "      <td>-19.887488</td>\n",
       "    </tr>\n",
       "    <tr>\n",
       "      <th>15</th>\n",
       "      <td>78.0</td>\n",
       "      <td>-26.745351</td>\n",
       "    </tr>\n",
       "    <tr>\n",
       "      <th>16</th>\n",
       "      <td>145.0</td>\n",
       "      <td>-83.119135</td>\n",
       "    </tr>\n",
       "    <tr>\n",
       "      <th>17</th>\n",
       "      <td>1600.0</td>\n",
       "      <td>698.334076</td>\n",
       "    </tr>\n",
       "    <tr>\n",
       "      <th>18</th>\n",
       "      <td>130.0</td>\n",
       "      <td>-40.911216</td>\n",
       "    </tr>\n",
       "    <tr>\n",
       "      <th>19</th>\n",
       "      <td>720.0</td>\n",
       "      <td>21.613654</td>\n",
       "    </tr>\n",
       "  </tbody>\n",
       "</table>\n",
       "</div>"
      ],
      "text/plain": [
       "    actual value  difference\n",
       "0          390.0  -82.339013\n",
       "1            0.0 -179.209750\n",
       "2          170.0  -53.675592\n",
       "3          160.0  -21.590187\n",
       "4          556.0 -116.564571\n",
       "5          900.0   92.882544\n",
       "6          800.0   93.247047\n",
       "7          300.0 -128.885872\n",
       "8          975.0   68.198363\n",
       "9          115.0  -18.780386\n",
       "10         200.0  -84.758498\n",
       "11         456.0 -120.010421\n",
       "12        1000.0  206.200205\n",
       "13        1000.0   74.406704\n",
       "14          60.0  -19.887488\n",
       "15          78.0  -26.745351\n",
       "16         145.0  -83.119135\n",
       "17        1600.0  698.334076\n",
       "18         130.0  -40.911216\n",
       "19         720.0   21.613654"
      ]
     },
     "execution_count": 29,
     "metadata": {},
     "output_type": "execute_result"
    }
   ],
   "source": [
    "#Check the difference between predicted and actual values\n",
    "pred_y_df=pd.DataFrame({'actual value':y_test, 'difference':y_test - y_pred})\n",
    "pred_y_df[0:20]"
   ]
  },
  {
   "cell_type": "code",
   "execution_count": null,
   "id": "dded2eb0",
   "metadata": {},
   "outputs": [],
   "source": []
  }
 ],
 "metadata": {
  "kernelspec": {
   "display_name": "Python 3 (ipykernel)",
   "language": "python",
   "name": "python3"
  },
  "language_info": {
   "codemirror_mode": {
    "name": "ipython",
    "version": 3
   },
   "file_extension": ".py",
   "mimetype": "text/x-python",
   "name": "python",
   "nbconvert_exporter": "python",
   "pygments_lexer": "ipython3",
   "version": "3.9.12"
  }
 },
 "nbformat": 4,
 "nbformat_minor": 5
}
