{
 "cells": [
  {
   "cell_type": "code",
   "execution_count": 1,
   "id": "08689f96",
   "metadata": {},
   "outputs": [],
   "source": [
    "#Import the necessary libraries\n",
    "import pandas as pd\n",
    "import numpy as np\n",
    "import seaborn as sns\n",
    "import matplotlib.pyplot as plt\n",
    "from sklearn.tree import DecisionTreeRegressor"
   ]
  },
  {
   "cell_type": "code",
   "execution_count": 2,
   "id": "e6ad6f03",
   "metadata": {},
   "outputs": [],
   "source": [
    "car_data = pd.read_csv('car_data.csv')"
   ]
  },
  {
   "cell_type": "code",
   "execution_count": 3,
   "id": "60d1e469",
   "metadata": {},
   "outputs": [
    {
     "data": {
      "text/html": [
       "<div>\n",
       "<style scoped>\n",
       "    .dataframe tbody tr th:only-of-type {\n",
       "        vertical-align: middle;\n",
       "    }\n",
       "\n",
       "    .dataframe tbody tr th {\n",
       "        vertical-align: top;\n",
       "    }\n",
       "\n",
       "    .dataframe thead th {\n",
       "        text-align: right;\n",
       "    }\n",
       "</style>\n",
       "<table border=\"1\" class=\"dataframe\">\n",
       "  <thead>\n",
       "    <tr style=\"text-align: right;\">\n",
       "      <th></th>\n",
       "      <th>Make</th>\n",
       "      <th>Model</th>\n",
       "      <th>Year</th>\n",
       "      <th>Engine_Fuel_Type</th>\n",
       "      <th>Engine_HP</th>\n",
       "      <th>Engine_Cylinders</th>\n",
       "      <th>Transmission_Type</th>\n",
       "      <th>Driven_Wheels</th>\n",
       "      <th>Number_of_Doors</th>\n",
       "      <th>Market_Category</th>\n",
       "      <th>Vehicle_Size</th>\n",
       "      <th>Vehicle_Style</th>\n",
       "      <th>highway_MPG</th>\n",
       "      <th>city_mpg</th>\n",
       "      <th>Popularity</th>\n",
       "      <th>MSRP</th>\n",
       "    </tr>\n",
       "  </thead>\n",
       "  <tbody>\n",
       "    <tr>\n",
       "      <th>0</th>\n",
       "      <td>BMW</td>\n",
       "      <td>1 Series M</td>\n",
       "      <td>2011</td>\n",
       "      <td>premium unleaded (required)</td>\n",
       "      <td>335.0</td>\n",
       "      <td>6.0</td>\n",
       "      <td>MANUAL</td>\n",
       "      <td>rear wheel drive</td>\n",
       "      <td>2.0</td>\n",
       "      <td>Factory Tuner,Luxury,High-Performance</td>\n",
       "      <td>Compact</td>\n",
       "      <td>Coupe</td>\n",
       "      <td>26</td>\n",
       "      <td>19</td>\n",
       "      <td>3916</td>\n",
       "      <td>46135</td>\n",
       "    </tr>\n",
       "    <tr>\n",
       "      <th>1</th>\n",
       "      <td>BMW</td>\n",
       "      <td>1 Series</td>\n",
       "      <td>2011</td>\n",
       "      <td>premium unleaded (required)</td>\n",
       "      <td>300.0</td>\n",
       "      <td>6.0</td>\n",
       "      <td>MANUAL</td>\n",
       "      <td>rear wheel drive</td>\n",
       "      <td>2.0</td>\n",
       "      <td>Luxury,Performance</td>\n",
       "      <td>Compact</td>\n",
       "      <td>Convertible</td>\n",
       "      <td>28</td>\n",
       "      <td>19</td>\n",
       "      <td>3916</td>\n",
       "      <td>40650</td>\n",
       "    </tr>\n",
       "    <tr>\n",
       "      <th>2</th>\n",
       "      <td>BMW</td>\n",
       "      <td>1 Series</td>\n",
       "      <td>2011</td>\n",
       "      <td>premium unleaded (required)</td>\n",
       "      <td>300.0</td>\n",
       "      <td>6.0</td>\n",
       "      <td>MANUAL</td>\n",
       "      <td>rear wheel drive</td>\n",
       "      <td>2.0</td>\n",
       "      <td>Luxury,High-Performance</td>\n",
       "      <td>Compact</td>\n",
       "      <td>Coupe</td>\n",
       "      <td>28</td>\n",
       "      <td>20</td>\n",
       "      <td>3916</td>\n",
       "      <td>36350</td>\n",
       "    </tr>\n",
       "    <tr>\n",
       "      <th>3</th>\n",
       "      <td>BMW</td>\n",
       "      <td>1 Series</td>\n",
       "      <td>2011</td>\n",
       "      <td>premium unleaded (required)</td>\n",
       "      <td>230.0</td>\n",
       "      <td>6.0</td>\n",
       "      <td>MANUAL</td>\n",
       "      <td>rear wheel drive</td>\n",
       "      <td>2.0</td>\n",
       "      <td>Luxury,Performance</td>\n",
       "      <td>Compact</td>\n",
       "      <td>Coupe</td>\n",
       "      <td>28</td>\n",
       "      <td>18</td>\n",
       "      <td>3916</td>\n",
       "      <td>29450</td>\n",
       "    </tr>\n",
       "    <tr>\n",
       "      <th>4</th>\n",
       "      <td>BMW</td>\n",
       "      <td>1 Series</td>\n",
       "      <td>2011</td>\n",
       "      <td>premium unleaded (required)</td>\n",
       "      <td>230.0</td>\n",
       "      <td>6.0</td>\n",
       "      <td>MANUAL</td>\n",
       "      <td>rear wheel drive</td>\n",
       "      <td>2.0</td>\n",
       "      <td>Luxury</td>\n",
       "      <td>Compact</td>\n",
       "      <td>Convertible</td>\n",
       "      <td>28</td>\n",
       "      <td>18</td>\n",
       "      <td>3916</td>\n",
       "      <td>34500</td>\n",
       "    </tr>\n",
       "  </tbody>\n",
       "</table>\n",
       "</div>"
      ],
      "text/plain": [
       "  Make       Model  Year             Engine_Fuel_Type  Engine_HP  \\\n",
       "0  BMW  1 Series M  2011  premium unleaded (required)      335.0   \n",
       "1  BMW    1 Series  2011  premium unleaded (required)      300.0   \n",
       "2  BMW    1 Series  2011  premium unleaded (required)      300.0   \n",
       "3  BMW    1 Series  2011  premium unleaded (required)      230.0   \n",
       "4  BMW    1 Series  2011  premium unleaded (required)      230.0   \n",
       "\n",
       "   Engine_Cylinders Transmission_Type     Driven_Wheels  Number_of_Doors  \\\n",
       "0               6.0            MANUAL  rear wheel drive              2.0   \n",
       "1               6.0            MANUAL  rear wheel drive              2.0   \n",
       "2               6.0            MANUAL  rear wheel drive              2.0   \n",
       "3               6.0            MANUAL  rear wheel drive              2.0   \n",
       "4               6.0            MANUAL  rear wheel drive              2.0   \n",
       "\n",
       "                         Market_Category Vehicle_Size Vehicle_Style  \\\n",
       "0  Factory Tuner,Luxury,High-Performance      Compact         Coupe   \n",
       "1                     Luxury,Performance      Compact   Convertible   \n",
       "2                Luxury,High-Performance      Compact         Coupe   \n",
       "3                     Luxury,Performance      Compact         Coupe   \n",
       "4                                 Luxury      Compact   Convertible   \n",
       "\n",
       "   highway_MPG  city_mpg  Popularity   MSRP  \n",
       "0           26        19        3916  46135  \n",
       "1           28        19        3916  40650  \n",
       "2           28        20        3916  36350  \n",
       "3           28        18        3916  29450  \n",
       "4           28        18        3916  34500  "
      ]
     },
     "execution_count": 3,
     "metadata": {},
     "output_type": "execute_result"
    }
   ],
   "source": [
    "car_data.head()"
   ]
  },
  {
   "cell_type": "code",
   "execution_count": 4,
   "id": "ef586fbe",
   "metadata": {},
   "outputs": [
    {
     "data": {
      "text/plain": [
       "(11914, 16)"
      ]
     },
     "execution_count": 4,
     "metadata": {},
     "output_type": "execute_result"
    }
   ],
   "source": [
    "car_data.shape"
   ]
  },
  {
   "cell_type": "code",
   "execution_count": 5,
   "id": "f0df230e",
   "metadata": {},
   "outputs": [
    {
     "data": {
      "text/plain": [
       "Make                    0\n",
       "Model                   0\n",
       "Year                    0\n",
       "Engine_Fuel_Type        3\n",
       "Engine_HP              69\n",
       "Engine_Cylinders       30\n",
       "Transmission_Type       0\n",
       "Driven_Wheels           0\n",
       "Number_of_Doors         6\n",
       "Market_Category      3742\n",
       "Vehicle_Size            0\n",
       "Vehicle_Style           0\n",
       "highway_MPG             0\n",
       "city_mpg                0\n",
       "Popularity              0\n",
       "MSRP                    0\n",
       "dtype: int64"
      ]
     },
     "execution_count": 5,
     "metadata": {},
     "output_type": "execute_result"
    }
   ],
   "source": [
    "#Inspect every column for missing values\n",
    "car_data.isnull().sum()"
   ]
  },
  {
   "cell_type": "code",
   "execution_count": 6,
   "id": "e5dabd1f",
   "metadata": {},
   "outputs": [],
   "source": [
    "#Populate the missing values for Engine Fuel Type with default values\n",
    "car_data.Engine_Fuel_Type = car_data.Engine_Fuel_Type.fillna('NA')"
   ]
  },
  {
   "cell_type": "code",
   "execution_count": 7,
   "id": "b186e74d",
   "metadata": {},
   "outputs": [],
   "source": [
    "#Populate the missing values for Number_of_Doors with default values\n",
    "car_data.Number_of_Doors = car_data.Number_of_Doors.fillna('NA')"
   ]
  },
  {
   "cell_type": "code",
   "execution_count": 8,
   "id": "1e4127af",
   "metadata": {},
   "outputs": [],
   "source": [
    "#Populate the missing values for Engine_HP with default values\n",
    "car_data.Engine_HP = car_data.Engine_HP.fillna('NA')"
   ]
  },
  {
   "cell_type": "code",
   "execution_count": 9,
   "id": "4c8753f1",
   "metadata": {},
   "outputs": [
    {
     "data": {
      "text/plain": [
       "Make                    0\n",
       "Model                   0\n",
       "Year                    0\n",
       "Engine_Fuel_Type        0\n",
       "Engine_HP               0\n",
       "Engine_Cylinders       30\n",
       "Transmission_Type       0\n",
       "Driven_Wheels           0\n",
       "Number_of_Doors         0\n",
       "Market_Category      3742\n",
       "Vehicle_Size            0\n",
       "Vehicle_Style           0\n",
       "highway_MPG             0\n",
       "city_mpg                0\n",
       "Popularity              0\n",
       "MSRP                    0\n",
       "dtype: int64"
      ]
     },
     "execution_count": 9,
     "metadata": {},
     "output_type": "execute_result"
    }
   ],
   "source": [
    "car_data.isnull().sum()"
   ]
  },
  {
   "cell_type": "code",
   "execution_count": 10,
   "id": "465e932b",
   "metadata": {},
   "outputs": [],
   "source": [
    "#Drop the values present in Market category\n",
    "car_data.dropna(inplace = True)"
   ]
  },
  {
   "cell_type": "code",
   "execution_count": 11,
   "id": "7cb316f1",
   "metadata": {},
   "outputs": [
    {
     "data": {
      "text/plain": [
       "Make                 0\n",
       "Model                0\n",
       "Year                 0\n",
       "Engine_Fuel_Type     0\n",
       "Engine_HP            0\n",
       "Engine_Cylinders     0\n",
       "Transmission_Type    0\n",
       "Driven_Wheels        0\n",
       "Number_of_Doors      0\n",
       "Market_Category      0\n",
       "Vehicle_Size         0\n",
       "Vehicle_Style        0\n",
       "highway_MPG          0\n",
       "city_mpg             0\n",
       "Popularity           0\n",
       "MSRP                 0\n",
       "dtype: int64"
      ]
     },
     "execution_count": 11,
     "metadata": {},
     "output_type": "execute_result"
    }
   ],
   "source": [
    "car_data.isnull().sum()"
   ]
  },
  {
   "cell_type": "code",
   "execution_count": 12,
   "id": "7d766b58",
   "metadata": {},
   "outputs": [
    {
     "data": {
      "text/plain": [
       "Make                  object\n",
       "Model                 object\n",
       "Year                   int64\n",
       "Engine_Fuel_Type      object\n",
       "Engine_HP             object\n",
       "Engine_Cylinders     float64\n",
       "Transmission_Type     object\n",
       "Driven_Wheels         object\n",
       "Number_of_Doors       object\n",
       "Market_Category       object\n",
       "Vehicle_Size          object\n",
       "Vehicle_Style         object\n",
       "highway_MPG            int64\n",
       "city_mpg               int64\n",
       "Popularity             int64\n",
       "MSRP                   int64\n",
       "dtype: object"
      ]
     },
     "execution_count": 12,
     "metadata": {},
     "output_type": "execute_result"
    }
   ],
   "source": [
    "#Display the datatype for the data in every column\n",
    "car_data.dtypes"
   ]
  },
  {
   "cell_type": "code",
   "execution_count": 13,
   "id": "9889c721",
   "metadata": {},
   "outputs": [],
   "source": [
    "#Convert string values into interger placeholders\n",
    "from sklearn.preprocessing import LabelEncoder\n"
   ]
  },
  {
   "cell_type": "code",
   "execution_count": 14,
   "id": "cd58fa64",
   "metadata": {},
   "outputs": [],
   "source": [
    "encoder = LabelEncoder()\n",
    "car_data.Make = encoder.fit_transform(car_data.Make)\n",
    "car_data.Model = encoder.fit_transform(car_data.Model)\n",
    "car_data.Engine_Fuel_Type = encoder.fit_transform(car_data.Engine_Fuel_Type)\n",
    "car_data.Transmission_Type = encoder.fit_transform(car_data.Transmission_Type)\n",
    "car_data.Engine_Cylinders = encoder.fit_transform(car_data.Engine_Cylinders)"
   ]
  },
  {
   "cell_type": "code",
   "execution_count": 15,
   "id": "4e22d919",
   "metadata": {},
   "outputs": [
    {
     "data": {
      "text/plain": [
       "Make                  int64\n",
       "Model                 int64\n",
       "Year                  int64\n",
       "Engine_Fuel_Type      int64\n",
       "Engine_HP            object\n",
       "Engine_Cylinders      int64\n",
       "Transmission_Type     int64\n",
       "Driven_Wheels        object\n",
       "Number_of_Doors      object\n",
       "Market_Category      object\n",
       "Vehicle_Size         object\n",
       "Vehicle_Style        object\n",
       "highway_MPG           int64\n",
       "city_mpg              int64\n",
       "Popularity            int64\n",
       "MSRP                  int64\n",
       "dtype: object"
      ]
     },
     "execution_count": 15,
     "metadata": {},
     "output_type": "execute_result"
    }
   ],
   "source": [
    "car_data.dtypes"
   ]
  },
  {
   "cell_type": "code",
   "execution_count": 16,
   "id": "2ba65b97",
   "metadata": {},
   "outputs": [
    {
     "data": {
      "text/html": [
       "<div>\n",
       "<style scoped>\n",
       "    .dataframe tbody tr th:only-of-type {\n",
       "        vertical-align: middle;\n",
       "    }\n",
       "\n",
       "    .dataframe tbody tr th {\n",
       "        vertical-align: top;\n",
       "    }\n",
       "\n",
       "    .dataframe thead th {\n",
       "        text-align: right;\n",
       "    }\n",
       "</style>\n",
       "<table border=\"1\" class=\"dataframe\">\n",
       "  <thead>\n",
       "    <tr style=\"text-align: right;\">\n",
       "      <th></th>\n",
       "      <th>Make</th>\n",
       "      <th>Model</th>\n",
       "      <th>Year</th>\n",
       "      <th>Engine_Fuel_Type</th>\n",
       "      <th>Engine_Cylinders</th>\n",
       "      <th>Transmission_Type</th>\n",
       "      <th>highway_MPG</th>\n",
       "      <th>city_mpg</th>\n",
       "      <th>Popularity</th>\n",
       "      <th>MSRP</th>\n",
       "    </tr>\n",
       "  </thead>\n",
       "  <tbody>\n",
       "    <tr>\n",
       "      <th>Make</th>\n",
       "      <td>1.000000</td>\n",
       "      <td>0.021998</td>\n",
       "      <td>-0.070247</td>\n",
       "      <td>0.094118</td>\n",
       "      <td>-0.302807</td>\n",
       "      <td>0.074692</td>\n",
       "      <td>0.136635</td>\n",
       "      <td>0.161756</td>\n",
       "      <td>-0.315541</td>\n",
       "      <td>-0.112313</td>\n",
       "    </tr>\n",
       "    <tr>\n",
       "      <th>Model</th>\n",
       "      <td>0.021998</td>\n",
       "      <td>1.000000</td>\n",
       "      <td>0.116916</td>\n",
       "      <td>-0.015035</td>\n",
       "      <td>0.046578</td>\n",
       "      <td>-0.103736</td>\n",
       "      <td>-0.066276</td>\n",
       "      <td>-0.009924</td>\n",
       "      <td>-0.119435</td>\n",
       "      <td>-0.024598</td>\n",
       "    </tr>\n",
       "    <tr>\n",
       "      <th>Year</th>\n",
       "      <td>-0.070247</td>\n",
       "      <td>0.116916</td>\n",
       "      <td>1.000000</td>\n",
       "      <td>-0.209751</td>\n",
       "      <td>-0.053726</td>\n",
       "      <td>-0.294554</td>\n",
       "      <td>0.200202</td>\n",
       "      <td>0.158726</td>\n",
       "      <td>0.118650</td>\n",
       "      <td>0.133504</td>\n",
       "    </tr>\n",
       "    <tr>\n",
       "      <th>Engine_Fuel_Type</th>\n",
       "      <td>0.094118</td>\n",
       "      <td>-0.015035</td>\n",
       "      <td>-0.209751</td>\n",
       "      <td>1.000000</td>\n",
       "      <td>-0.065123</td>\n",
       "      <td>0.086708</td>\n",
       "      <td>-0.149315</td>\n",
       "      <td>-0.146010</td>\n",
       "      <td>-0.084064</td>\n",
       "      <td>-0.049812</td>\n",
       "    </tr>\n",
       "    <tr>\n",
       "      <th>Engine_Cylinders</th>\n",
       "      <td>-0.302807</td>\n",
       "      <td>0.046578</td>\n",
       "      <td>-0.053726</td>\n",
       "      <td>-0.065123</td>\n",
       "      <td>1.000000</td>\n",
       "      <td>-0.148149</td>\n",
       "      <td>-0.606725</td>\n",
       "      <td>-0.585316</td>\n",
       "      <td>0.030795</td>\n",
       "      <td>0.491149</td>\n",
       "    </tr>\n",
       "    <tr>\n",
       "      <th>Transmission_Type</th>\n",
       "      <td>0.074692</td>\n",
       "      <td>-0.103736</td>\n",
       "      <td>-0.294554</td>\n",
       "      <td>0.086708</td>\n",
       "      <td>-0.148149</td>\n",
       "      <td>1.000000</td>\n",
       "      <td>0.069415</td>\n",
       "      <td>0.053882</td>\n",
       "      <td>-0.011469</td>\n",
       "      <td>-0.140660</td>\n",
       "    </tr>\n",
       "    <tr>\n",
       "      <th>highway_MPG</th>\n",
       "      <td>0.136635</td>\n",
       "      <td>-0.066276</td>\n",
       "      <td>0.200202</td>\n",
       "      <td>-0.149315</td>\n",
       "      <td>-0.606725</td>\n",
       "      <td>0.069415</td>\n",
       "      <td>1.000000</td>\n",
       "      <td>0.872781</td>\n",
       "      <td>0.037596</td>\n",
       "      <td>-0.212645</td>\n",
       "    </tr>\n",
       "    <tr>\n",
       "      <th>city_mpg</th>\n",
       "      <td>0.161756</td>\n",
       "      <td>-0.009924</td>\n",
       "      <td>0.158726</td>\n",
       "      <td>-0.146010</td>\n",
       "      <td>-0.585316</td>\n",
       "      <td>0.053882</td>\n",
       "      <td>0.872781</td>\n",
       "      <td>1.000000</td>\n",
       "      <td>0.041518</td>\n",
       "      <td>-0.201769</td>\n",
       "    </tr>\n",
       "    <tr>\n",
       "      <th>Popularity</th>\n",
       "      <td>-0.315541</td>\n",
       "      <td>-0.119435</td>\n",
       "      <td>0.118650</td>\n",
       "      <td>-0.084064</td>\n",
       "      <td>0.030795</td>\n",
       "      <td>-0.011469</td>\n",
       "      <td>0.037596</td>\n",
       "      <td>0.041518</td>\n",
       "      <td>1.000000</td>\n",
       "      <td>-0.052728</td>\n",
       "    </tr>\n",
       "    <tr>\n",
       "      <th>MSRP</th>\n",
       "      <td>-0.112313</td>\n",
       "      <td>-0.024598</td>\n",
       "      <td>0.133504</td>\n",
       "      <td>-0.049812</td>\n",
       "      <td>0.491149</td>\n",
       "      <td>-0.140660</td>\n",
       "      <td>-0.212645</td>\n",
       "      <td>-0.201769</td>\n",
       "      <td>-0.052728</td>\n",
       "      <td>1.000000</td>\n",
       "    </tr>\n",
       "  </tbody>\n",
       "</table>\n",
       "</div>"
      ],
      "text/plain": [
       "                       Make     Model      Year  Engine_Fuel_Type  \\\n",
       "Make               1.000000  0.021998 -0.070247          0.094118   \n",
       "Model              0.021998  1.000000  0.116916         -0.015035   \n",
       "Year              -0.070247  0.116916  1.000000         -0.209751   \n",
       "Engine_Fuel_Type   0.094118 -0.015035 -0.209751          1.000000   \n",
       "Engine_Cylinders  -0.302807  0.046578 -0.053726         -0.065123   \n",
       "Transmission_Type  0.074692 -0.103736 -0.294554          0.086708   \n",
       "highway_MPG        0.136635 -0.066276  0.200202         -0.149315   \n",
       "city_mpg           0.161756 -0.009924  0.158726         -0.146010   \n",
       "Popularity        -0.315541 -0.119435  0.118650         -0.084064   \n",
       "MSRP              -0.112313 -0.024598  0.133504         -0.049812   \n",
       "\n",
       "                   Engine_Cylinders  Transmission_Type  highway_MPG  city_mpg  \\\n",
       "Make                      -0.302807           0.074692     0.136635  0.161756   \n",
       "Model                      0.046578          -0.103736    -0.066276 -0.009924   \n",
       "Year                      -0.053726          -0.294554     0.200202  0.158726   \n",
       "Engine_Fuel_Type          -0.065123           0.086708    -0.149315 -0.146010   \n",
       "Engine_Cylinders           1.000000          -0.148149    -0.606725 -0.585316   \n",
       "Transmission_Type         -0.148149           1.000000     0.069415  0.053882   \n",
       "highway_MPG               -0.606725           0.069415     1.000000  0.872781   \n",
       "city_mpg                  -0.585316           0.053882     0.872781  1.000000   \n",
       "Popularity                 0.030795          -0.011469     0.037596  0.041518   \n",
       "MSRP                       0.491149          -0.140660    -0.212645 -0.201769   \n",
       "\n",
       "                   Popularity      MSRP  \n",
       "Make                -0.315541 -0.112313  \n",
       "Model               -0.119435 -0.024598  \n",
       "Year                 0.118650  0.133504  \n",
       "Engine_Fuel_Type    -0.084064 -0.049812  \n",
       "Engine_Cylinders     0.030795  0.491149  \n",
       "Transmission_Type   -0.011469 -0.140660  \n",
       "highway_MPG          0.037596 -0.212645  \n",
       "city_mpg             0.041518 -0.201769  \n",
       "Popularity           1.000000 -0.052728  \n",
       "MSRP                -0.052728  1.000000  "
      ]
     },
     "execution_count": 16,
     "metadata": {},
     "output_type": "execute_result"
    }
   ],
   "source": [
    "#Run a correlation between columns\n",
    "car_data.corr()"
   ]
  },
  {
   "cell_type": "code",
   "execution_count": 17,
   "id": "438d32bf",
   "metadata": {},
   "outputs": [],
   "source": [
    "#Define input and output variable\n",
    "Input=car_data.drop(['MSRP','Engine_HP','Driven_Wheels','Number_of_Doors','Market_Category','Vehicle_Size','Vehicle_Style','highway_MPG','city_mpg','Popularity'], axis='columns')\n",
    "Result=car_data['MSRP'].values"
   ]
  },
  {
   "cell_type": "code",
   "execution_count": 18,
   "id": "8f3d3bab",
   "metadata": {},
   "outputs": [],
   "source": [
    "#Split the data into training and testing\n",
    "from sklearn.model_selection import train_test_split"
   ]
  },
  {
   "cell_type": "code",
   "execution_count": 19,
   "id": "0e90c9c5",
   "metadata": {},
   "outputs": [
    {
     "name": "stdout",
     "output_type": "stream",
     "text": [
      "       Make  Model  Year  Engine_Fuel_Type  Engine_Cylinders  \\\n",
      "7598     18    486  2015                 8                 4   \n",
      "7955     20    510  2016                 6                 5   \n",
      "5319     31    308  2016                 7                 4   \n",
      "5105     20    293  2011                 6                 4   \n",
      "3217      8    153  2014                 7                 5   \n",
      "...     ...    ...   ...               ...               ...   \n",
      "11642    40    717  2012                 8                 2   \n",
      "7352     32    475  2015                 8                 2   \n",
      "5680     36    324  2004                 7                 5   \n",
      "262      33     21  2007                 8                 4   \n",
      "7308     11    470  1990                 8                 2   \n",
      "\n",
      "       Transmission_Type  \n",
      "7598                   1  \n",
      "7955                   1  \n",
      "5319                   1  \n",
      "5105                   3  \n",
      "3217                   3  \n",
      "...                  ...  \n",
      "11642                  1  \n",
      "7352                   1  \n",
      "5680                   1  \n",
      "262                    1  \n",
      "7308                   3  \n",
      "\n",
      "[5699 rows x 6 columns]\n"
     ]
    }
   ],
   "source": [
    "X_train, X_test, y_train, y_test = train_test_split(Input, Result,test_size=0.3, random_state=1)\n",
    "print(X_train)"
   ]
  },
  {
   "cell_type": "code",
   "execution_count": 20,
   "id": "25a91091",
   "metadata": {},
   "outputs": [],
   "source": [
    "#use decision tree classifier and graphviz to model the decision tree\n",
    "from sklearn.tree import DecisionTreeRegressor, export_graphviz"
   ]
  },
  {
   "cell_type": "code",
   "execution_count": 21,
   "id": "bca8a130",
   "metadata": {},
   "outputs": [
    {
     "data": {
      "text/plain": [
       "DecisionTreeRegressor(max_depth=4, random_state=1)"
      ]
     },
     "execution_count": 21,
     "metadata": {},
     "output_type": "execute_result"
    }
   ],
   "source": [
    "tree_model = DecisionTreeRegressor(max_depth=4, random_state=1)\n",
    "tree_model"
   ]
  },
  {
   "cell_type": "code",
   "execution_count": 22,
   "id": "b0fb3630",
   "metadata": {},
   "outputs": [
    {
     "data": {
      "text/plain": [
       "DecisionTreeRegressor(max_depth=4, random_state=1)"
      ]
     },
     "execution_count": 22,
     "metadata": {},
     "output_type": "execute_result"
    }
   ],
   "source": [
    "tree_model.fit(X_train, y_train)"
   ]
  },
  {
   "cell_type": "code",
   "execution_count": 23,
   "id": "71664e62",
   "metadata": {},
   "outputs": [
    {
     "name": "stdout",
     "output_type": "stream",
     "text": [
      "The coefficient of determination is 0.7182474508\n"
     ]
    }
   ],
   "source": [
    "print(\"The coefficient of determination is %.10f\" % tree_model.score(Input, Result))"
   ]
  },
  {
   "cell_type": "code",
   "execution_count": 24,
   "id": "194ae238",
   "metadata": {},
   "outputs": [
    {
     "data": {
      "text/plain": [
       "array([44195.46958378, 44195.46958378, 44195.46958378, ...,\n",
       "       44195.46958378, 44195.46958378, 44195.46958378])"
      ]
     },
     "execution_count": 24,
     "metadata": {},
     "output_type": "execute_result"
    }
   ],
   "source": [
    "tree_model.predict(Input)"
   ]
  },
  {
   "cell_type": "code",
   "execution_count": 25,
   "id": "f7b0e343",
   "metadata": {},
   "outputs": [],
   "source": [
    "export_graphviz(tree_model, out_file=\"decision_tree.dot\", feature_names=X_train.columns, impurity=False, filled=True)"
   ]
  },
  {
   "cell_type": "code",
   "execution_count": 26,
   "id": "08d2d6bd",
   "metadata": {},
   "outputs": [],
   "source": [
    "#to generate the decision tree\n",
    "from sklearn import tree"
   ]
  },
  {
   "cell_type": "code",
   "execution_count": 27,
   "id": "748305b0",
   "metadata": {},
   "outputs": [
    {
     "data": {
      "text/plain": [
       "[Text(0.5648148148148148, 0.9, 'Engine_Cylinders <= 5.5\\nsamples = 5699\\nvalue = 50490.275'),\n",
       " Text(0.2962962962962963, 0.7, 'Engine_Cylinders <= 4.5\\nsamples = 5478\\nvalue = 41164.521'),\n",
       " Text(0.14814814814814814, 0.5, 'Year <= 2000.5\\nsamples = 4400\\nvalue = 33613.36'),\n",
       " Text(0.07407407407407407, 0.3, 'Model <= 618.5\\nsamples = 398\\nvalue = 2683.487'),\n",
       " Text(0.037037037037037035, 0.1, 'samples = 378\\nvalue = 2431.066'),\n",
       " Text(0.1111111111111111, 0.1, 'samples = 20\\nvalue = 7454.25'),\n",
       " Text(0.2222222222222222, 0.3, 'Engine_Cylinders <= 3.5\\nsamples = 4002\\nvalue = 36689.344'),\n",
       " Text(0.18518518518518517, 0.1, 'samples = 2128\\nvalue = 30079.157'),\n",
       " Text(0.25925925925925924, 0.1, 'samples = 1874\\nvalue = 44195.47'),\n",
       " Text(0.4444444444444444, 0.5, 'Transmission_Type <= 0.5\\nsamples = 1078\\nvalue = 71985.584'),\n",
       " Text(0.37037037037037035, 0.3, 'Make <= 8.5\\nsamples = 75\\nvalue = 156103.667'),\n",
       " Text(0.3333333333333333, 0.1, 'samples = 32\\nvalue = 108252.188'),\n",
       " Text(0.4074074074074074, 0.1, 'samples = 43\\nvalue = 191714.07'),\n",
       " Text(0.5185185185185185, 0.3, 'Make <= 6.0\\nsamples = 1003\\nvalue = 65695.598'),\n",
       " Text(0.48148148148148145, 0.1, 'samples = 104\\nvalue = 139333.856'),\n",
       " Text(0.5555555555555556, 0.1, 'samples = 899\\nvalue = 57176.823'),\n",
       " Text(0.8333333333333334, 0.7, 'Engine_Cylinders <= 7.5\\nsamples = 221\\nvalue = 281650.819'),\n",
       " Text(0.7407407407407407, 0.5, 'Make <= 12.0\\nsamples = 219\\nvalue = 267000.731'),\n",
       " Text(0.6666666666666666, 0.3, 'Make <= 8.0\\nsamples = 99\\nvalue = 201588.707'),\n",
       " Text(0.6296296296296297, 0.1, 'samples = 86\\nvalue = 216918.105'),\n",
       " Text(0.7037037037037037, 0.1, 'samples = 13\\nvalue = 100178.846'),\n",
       " Text(0.8148148148148148, 0.3, 'Make <= 29.5\\nsamples = 120\\nvalue = 320965.65'),\n",
       " Text(0.7777777777777778, 0.1, 'samples = 72\\nvalue = 364271.236'),\n",
       " Text(0.8518518518518519, 0.1, 'samples = 48\\nvalue = 256007.271'),\n",
       " Text(0.9259259259259259, 0.5, 'Year <= 2008.5\\nsamples = 2\\nvalue = 1885835.5'),\n",
       " Text(0.8888888888888888, 0.3, 'samples = 1\\nvalue = 2065902.0'),\n",
       " Text(0.9629629629629629, 0.3, 'samples = 1\\nvalue = 1705769.0')]"
      ]
     },
     "execution_count": 27,
     "metadata": {},
     "output_type": "execute_result"
    },
    {
     "data": {
      "image/png": "[encoded data removed]",
      "text/plain": [
       "<Figure size 1368x576 with 1 Axes>"
      ]
     },
     "metadata": {
      "needs_background": "light"
     },
     "output_type": "display_data"
    }
   ],
   "source": [
    "fig = plt.figure(figsize=(19, 8))\n",
    "tree.plot_tree(tree_model, feature_names=X_train.columns, impurity=False, filled=True)"
   ]
  },
  {
   "cell_type": "code",
   "execution_count": 28,
   "id": "c47d12ad",
   "metadata": {},
   "outputs": [],
   "source": [
    "fig.savefig(\"assignment2_decision_tree2.png\")"
   ]
  },
  {
   "cell_type": "code",
   "execution_count": 29,
   "id": "569bf121",
   "metadata": {},
   "outputs": [
    {
     "data": {
      "text/plain": [
       "Text(0, 0.5, 'MSRP')"
      ]
     },
     "execution_count": 29,
     "metadata": {},
     "output_type": "execute_result"
    },
    {
     "data": {
      "image/png": "[encoded data removed]",
      "text/plain": [
       "<Figure size 432x288 with 1 Axes>"
      ]
     },
     "metadata": {
      "needs_background": "light"
     },
     "output_type": "display_data"
    }
   ],
   "source": [
    "#plot the bar graph for the decision tree\n",
    "n_features = X_train.shape[1]\n",
    "plt.barh(range(n_features), tree_model.feature_importances_, align='center')\n",
    "plt.yticks(np.arange(n_features), X_train.columns)\n",
    "plt.xlabel(\"Car Description\")\n",
    "plt.ylabel(\"MSRP\")"
   ]
  },
  {
   "cell_type": "code",
   "execution_count": null,
   "id": "769223b8",
   "metadata": {},
   "outputs": [],
   "source": []
  }
 ],
 "metadata": {
  "kernelspec": {
   "display_name": "Python 3 (ipykernel)",
   "language": "python",
   "name": "python3"
  },
  "language_info": {
   "codemirror_mode": {
    "name": "ipython",
    "version": 3
   },
   "file_extension": ".py",
   "mimetype": "text/x-python",
   "name": "python",
   "nbconvert_exporter": "python",
   "pygments_lexer": "ipython3",
   "version": "3.9.12"
  }
 },
 "nbformat": 4,
 "nbformat_minor": 5
}
