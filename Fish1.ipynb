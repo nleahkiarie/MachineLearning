{
 "cells": [
  {
   "cell_type": "code",
   "execution_count": 28,
   "id": "3134846a",
   "metadata": {},
   "outputs": [],
   "source": [
    "import pandas as pd\n",
    "import numpy as np"
   ]
  },
  {
   "cell_type": "code",
   "execution_count": 29,
   "id": "dd979c2c",
   "metadata": {},
   "outputs": [],
   "source": [
    "data_df=pd.read_csv('/home/leah/Downloads/Fish.csv') "
   ]
  },
  {
   "cell_type": "code",
   "execution_count": 30,
   "id": "98313412",
   "metadata": {},
   "outputs": [
    {
     "data": {
      "text/html": [
       "<div>\n",
       "<style scoped>\n",
       "    .dataframe tbody tr th:only-of-type {\n",
       "        vertical-align: middle;\n",
       "    }\n",
       "\n",
       "    .dataframe tbody tr th {\n",
       "        vertical-align: top;\n",
       "    }\n",
       "\n",
       "    .dataframe thead th {\n",
       "        text-align: right;\n",
       "    }\n",
       "</style>\n",
       "<table border=\"1\" class=\"dataframe\">\n",
       "  <thead>\n",
       "    <tr style=\"text-align: right;\">\n",
       "      <th></th>\n",
       "      <th>Species</th>\n",
       "      <th>Weight</th>\n",
       "      <th>Length1</th>\n",
       "      <th>Length2</th>\n",
       "      <th>Length3</th>\n",
       "      <th>Height</th>\n",
       "      <th>Width</th>\n",
       "    </tr>\n",
       "  </thead>\n",
       "  <tbody>\n",
       "    <tr>\n",
       "      <th>0</th>\n",
       "      <td>Bream</td>\n",
       "      <td>242.0</td>\n",
       "      <td>23.2</td>\n",
       "      <td>25.4</td>\n",
       "      <td>30.0</td>\n",
       "      <td>11.5200</td>\n",
       "      <td>4.0200</td>\n",
       "    </tr>\n",
       "    <tr>\n",
       "      <th>1</th>\n",
       "      <td>Bream</td>\n",
       "      <td>290.0</td>\n",
       "      <td>24.0</td>\n",
       "      <td>26.3</td>\n",
       "      <td>31.2</td>\n",
       "      <td>12.4800</td>\n",
       "      <td>4.3056</td>\n",
       "    </tr>\n",
       "    <tr>\n",
       "      <th>2</th>\n",
       "      <td>Bream</td>\n",
       "      <td>340.0</td>\n",
       "      <td>23.9</td>\n",
       "      <td>26.5</td>\n",
       "      <td>31.1</td>\n",
       "      <td>12.3778</td>\n",
       "      <td>4.6961</td>\n",
       "    </tr>\n",
       "    <tr>\n",
       "      <th>3</th>\n",
       "      <td>Bream</td>\n",
       "      <td>363.0</td>\n",
       "      <td>26.3</td>\n",
       "      <td>29.0</td>\n",
       "      <td>33.5</td>\n",
       "      <td>12.7300</td>\n",
       "      <td>4.4555</td>\n",
       "    </tr>\n",
       "    <tr>\n",
       "      <th>4</th>\n",
       "      <td>Bream</td>\n",
       "      <td>430.0</td>\n",
       "      <td>26.5</td>\n",
       "      <td>29.0</td>\n",
       "      <td>34.0</td>\n",
       "      <td>12.4440</td>\n",
       "      <td>5.1340</td>\n",
       "    </tr>\n",
       "  </tbody>\n",
       "</table>\n",
       "</div>"
      ],
      "text/plain": [
       "  Species  Weight  Length1  Length2  Length3   Height   Width\n",
       "0   Bream   242.0     23.2     25.4     30.0  11.5200  4.0200\n",
       "1   Bream   290.0     24.0     26.3     31.2  12.4800  4.3056\n",
       "2   Bream   340.0     23.9     26.5     31.1  12.3778  4.6961\n",
       "3   Bream   363.0     26.3     29.0     33.5  12.7300  4.4555\n",
       "4   Bream   430.0     26.5     29.0     34.0  12.4440  5.1340"
      ]
     },
     "execution_count": 30,
     "metadata": {},
     "output_type": "execute_result"
    }
   ],
   "source": [
    "data_df.head()"
   ]
  },
  {
   "cell_type": "code",
   "execution_count": 31,
   "id": "379b7484",
   "metadata": {},
   "outputs": [],
   "source": [
    "x=data_df.drop(['Weight','Species'],axis=1).values\n",
    "y=data_df['Weight'].values"
   ]
  },
  {
   "cell_type": "code",
   "execution_count": 32,
   "id": "00195e39",
   "metadata": {},
   "outputs": [],
   "source": [
    "from sklearn.linear_model import LinearRegression"
   ]
  },
  {
   "cell_type": "code",
   "execution_count": 33,
   "id": "a7ecf9ee",
   "metadata": {},
   "outputs": [
    {
     "data": {
      "text/plain": [
       "LinearRegression()"
      ]
     },
     "execution_count": 33,
     "metadata": {},
     "output_type": "execute_result"
    }
   ],
   "source": [
    "model = LinearRegression()\n",
    "model"
   ]
  },
  {
   "cell_type": "code",
   "execution_count": 34,
   "id": "35884550",
   "metadata": {},
   "outputs": [
    {
     "data": {
      "text/plain": [
       "LinearRegression()"
      ]
     },
     "execution_count": 34,
     "metadata": {},
     "output_type": "execute_result"
    }
   ],
   "source": [
    "model.fit(x, y)"
   ]
  },
  {
   "cell_type": "code",
   "execution_count": 35,
   "id": "44370529",
   "metadata": {},
   "outputs": [
    {
     "name": "stdout",
     "output_type": "stream",
     "text": [
      "intercept: -499.58695535694187\n"
     ]
    }
   ],
   "source": [
    "print('intercept:', model.intercept_)"
   ]
  },
  {
   "cell_type": "code",
   "execution_count": 36,
   "id": "05747668",
   "metadata": {},
   "outputs": [
    {
     "name": "stdout",
     "output_type": "stream",
     "text": [
      "slope: [ 62.35521443  -6.52675249 -29.02621861  28.29735132  22.47330665]\n"
     ]
    }
   ],
   "source": [
    "print('slope:', model.coef_)"
   ]
  },
  {
   "cell_type": "code",
   "execution_count": 37,
   "id": "66f2054a",
   "metadata": {},
   "outputs": [
    {
     "name": "stdout",
     "output_type": "stream",
     "text": [
      "predicted response:\n",
      "[ 326.81612777  369.57859339  370.82418025  439.05613854  444.16916821\n",
      "  466.12531938  496.15134252  473.62398623  511.95189321  540.44545602\n",
      "  536.53040775  551.80179482  540.3150434   556.0586456   584.39982147\n",
      "  607.28049765  608.21493286  602.63015994  645.87687859  629.752138\n",
      "  636.94759733  671.89658763  645.00106119  651.90331312  670.71263903\n",
      "  666.68027257  688.73713396  698.76730011  720.43978287  796.13010587\n",
      "  803.62924782  807.54330665  867.35964459  911.56438073  894.45974647\n",
      "  -89.13240595   34.59573548   76.61669964   91.9448575   141.5233585\n",
      "  148.11845226  135.97771966  132.18181968  160.54902275  197.22186967\n",
      "  182.36104273  197.43654712  210.10228652  225.46574556  221.7914616\n",
      "  249.24362069  286.00318882  331.92493631  344.59908139  505.82109937\n",
      "  301.84880663  305.71765485  373.5551134   539.81247674  695.31306022\n",
      "  798.77573778   13.38283184   23.99680891   96.17908694  152.41893132\n",
      "  192.66943342  192.27759854  219.17494849  241.65405111  298.44378665\n",
      "  365.57045736  402.31855666 -250.77187008  -91.48700757  -38.54162814\n",
      "   19.85042062   24.77285292   58.20999915   80.13844941   90.61111209\n",
      "   92.29357535  101.29545207  135.98567529  136.79043594  138.51392229\n",
      "  163.12202729  171.28725007  160.62810848  173.9278636   167.27798604\n",
      "  167.86562382  182.36631538  208.85263622  190.61210644  177.77282219\n",
      "  223.29495289  265.45783158  241.77314035  272.75253811  267.22058995\n",
      "  295.89108639  369.56514031  411.50260444  366.12664052  362.85546671\n",
      "  374.59364283  395.07208356  435.57517102  443.59186169  620.34496346\n",
      "  644.92999622  716.12966982  712.40160009  725.52056816  713.93316545\n",
      "  717.91289343  803.68733248  770.19311624  846.27084699  809.69340158\n",
      "  807.1691595   833.8228606   783.19613944  880.14086852  890.72452163\n",
      "  920.25772656  927.61035407  947.51616468  383.5635105   412.9323248\n",
      "  451.29129927  539.96640029  599.58148752  574.21202976  699.68727978\n",
      "  689.87959129  726.40822496  739.34856983  810.28881195  832.64029335\n",
      "  966.66723972 1103.88858947 1152.75248089 1152.75248089 1265.84301875\n",
      " -224.38232605 -199.39843558 -200.96951453 -178.04747934 -177.75895011\n",
      " -180.77278307 -160.73343833 -163.38304118 -162.0175998  -160.60811584\n",
      " -145.53543881 -137.84341252  -83.27975801  -82.00569369]\n"
     ]
    }
   ],
   "source": [
    "y_pred = model.predict(x)\n",
    "print('predicted response:', y_pred, sep='\\n')"
   ]
  },
  {
   "cell_type": "code",
   "execution_count": 40,
   "id": "bfcefc2d",
   "metadata": {},
   "outputs": [
    {
     "name": "stdout",
     "output_type": "stream",
     "text": [
      "[[ 0  1  2  3  4]\n",
      " [ 5  6  7  8  9]\n",
      " [10 11 12 13 14]\n",
      " [15 16 17 18 19]\n",
      " [20 21 22 23 24]\n",
      " [25 26 27 28 29]\n",
      " [30 31 32 33 34]]\n"
     ]
    }
   ],
   "source": [
    "x_new = np.arange(35).reshape((-1, 5))\n",
    "print(x_new)"
   ]
  },
  {
   "cell_type": "code",
   "execution_count": 41,
   "id": "111443ef",
   "metadata": {},
   "outputs": [
    {
     "name": "stdout",
     "output_type": "stream",
     "text": [
      "[-3.89380864e+02 -1.51635799e+00  3.86348149e+02  7.74212655e+02\n",
      "  1.16207716e+03  1.54994167e+03  1.93780617e+03]\n"
     ]
    }
   ],
   "source": [
    "y_new = model.predict(x_new)\n",
    "print(y_new)"
   ]
  },
  {
   "cell_type": "code",
   "execution_count": null,
   "id": "9f229d73",
   "metadata": {},
   "outputs": [],
   "source": [
    "r_sq = model.score(x, y)\n",
    "print('coefficient of determination:', r_sq)"
   ]
  },
  {
   "cell_type": "code",
   "execution_count": null,
   "id": "5c4d4163",
   "metadata": {},
   "outputs": [],
   "source": []
  },
  {
   "cell_type": "code",
   "execution_count": null,
   "id": "3ae15436",
   "metadata": {},
   "outputs": [],
   "source": []
  }
 ],
 "metadata": {
  "kernelspec": {
   "display_name": "Python 3 (ipykernel)",
   "language": "python",
   "name": "python3"
  },
  "language_info": {
   "codemirror_mode": {
    "name": "ipython",
    "version": 3
   },
   "file_extension": ".py",
   "mimetype": "text/x-python",
   "name": "python",
   "nbconvert_exporter": "python",
   "pygments_lexer": "ipython3",
   "version": "3.9.12"
  }
 },
 "nbformat": 4,
 "nbformat_minor": 5
}
